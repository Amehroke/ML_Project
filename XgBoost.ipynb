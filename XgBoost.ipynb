{
 "cells": [
  {
   "cell_type": "code",
   "execution_count": null,
   "metadata": {},
   "outputs": [],
   "source": [
    "from scipy.ndimage import rotate\n",
    "import pandas as pd \n",
    "import numpy as np \n",
    "import math\n",
    "# libraries for data visualization\n",
    "import matplotlib.pyplot as plt\n",
    "# libraries for model selection\n",
    "import xgboost as xgb\n",
    "# libraries for model evaluation\n",
    "from sklearn.metrics import accuracy_score\n",
    "from sklearn.metrics import mean_squared_error\n",
    "#library to read matlab files\n",
    "from scipy.io import loadmat\n",
    "from sklearn.preprocessing import LabelEncoder\n",
    "from sklearn.model_selection import GridSearchCV\n"
   ]
  },
  {
   "cell_type": "markdown",
   "metadata": {},
   "source": [
    "<h1>Load and Parse Data</h1>"
   ]
  },
  {
   "cell_type": "code",
   "execution_count": null,
   "metadata": {},
   "outputs": [],
   "source": [
    "#Import the MNIST.mat file\n",
    "mat_data = loadmat('/Users/deep/Desktop/ML_Project/MNIST.mat')\n",
    "# Print the keys of the MATLAB file to understand what data it contains\n",
    "print(mat_data.keys())\n",
    "\n",
    "pixel_features = mat_data['train_fea']\n",
    "pixel_labels = mat_data['train_gnd'].ravel()\n",
    "\n",
    "pixel_test_features = mat_data['test_fea']\n",
    "pixel_test_labels = mat_data['test_gnd'].ravel()\n",
    "\n",
    "#Normalize the pixel features\n",
    "pixel_features = pixel_features/255\n",
    "pixel_test_features = pixel_test_features/255\n"
   ]
  }
 ],
 "metadata": {
  "language_info": {
   "name": "python"
  }
 },
 "nbformat": 4,
 "nbformat_minor": 2
}
