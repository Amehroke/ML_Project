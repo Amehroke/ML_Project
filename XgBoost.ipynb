{
 "cells": [
  {
   "cell_type": "code",
   "execution_count": 1,
   "metadata": {},
   "outputs": [],
   "source": [
    "from scipy.ndimage import rotate\n",
    "import pandas as pd \n",
    "import numpy as np \n",
    "import math\n",
    "# libraries for data visualization\n",
    "import matplotlib.pyplot as plt\n",
    "# libraries for model selection\n",
    "import xgboost as xgb\n",
    "# libraries for model evaluation\n",
    "from sklearn.metrics import accuracy_score\n",
    "from sklearn.metrics import mean_squared_error\n",
    "#library to read matlab files\n",
    "from scipy.io import loadmat\n",
    "from sklearn.preprocessing import LabelEncoder\n",
    "from sklearn.model_selection import GridSearchCV\n"
   ]
  },
  {
   "cell_type": "markdown",
   "metadata": {},
   "source": [
    "<h1>Load and Parse Data</h1>"
   ]
  },
  {
   "cell_type": "code",
   "execution_count": 2,
   "metadata": {},
   "outputs": [
    {
     "ename": "FileNotFoundError",
     "evalue": "[Errno 2] No such file or directory: '/Users/deep/Desktop/ML_Project/MNIST.mat'",
     "output_type": "error",
     "traceback": [
      "\u001b[0;31m---------------------------------------------------------------------------\u001b[0m",
      "\u001b[0;31mFileNotFoundError\u001b[0m                         Traceback (most recent call last)",
      "File \u001b[0;32m~/miniconda3/lib/python3.11/site-packages/scipy/io/matlab/_mio.py:39\u001b[0m, in \u001b[0;36m_open_file\u001b[0;34m(file_like, appendmat, mode)\u001b[0m\n\u001b[1;32m     38\u001b[0m \u001b[39mtry\u001b[39;00m:\n\u001b[0;32m---> 39\u001b[0m     \u001b[39mreturn\u001b[39;00m \u001b[39mopen\u001b[39m(file_like, mode), \u001b[39mTrue\u001b[39;00m\n\u001b[1;32m     40\u001b[0m \u001b[39mexcept\u001b[39;00m \u001b[39mOSError\u001b[39;00m \u001b[39mas\u001b[39;00m e:\n\u001b[1;32m     41\u001b[0m     \u001b[39m# Probably \"not found\"\u001b[39;00m\n",
      "\u001b[0;31mFileNotFoundError\u001b[0m: [Errno 2] No such file or directory: '/Users/deep/Desktop/ML_Project/MNIST.mat'",
      "\nDuring handling of the above exception, another exception occurred:\n",
      "\u001b[0;31mFileNotFoundError\u001b[0m                         Traceback (most recent call last)",
      "\u001b[1;32m/Users/deep/Desktop/ML_Project-1/XgBoost.ipynb Cell 3\u001b[0m line \u001b[0;36m2\n\u001b[1;32m      <a href='vscode-notebook-cell:/Users/deep/Desktop/ML_Project-1/XgBoost.ipynb#W2sZmlsZQ%3D%3D?line=0'>1</a>\u001b[0m \u001b[39m#Import the MNIST.mat file\u001b[39;00m\n\u001b[0;32m----> <a href='vscode-notebook-cell:/Users/deep/Desktop/ML_Project-1/XgBoost.ipynb#W2sZmlsZQ%3D%3D?line=1'>2</a>\u001b[0m mat_data \u001b[39m=\u001b[39m loadmat(\u001b[39m'\u001b[39m\u001b[39m/Users/deep/Desktop/ML_Project/MNIST.mat\u001b[39m\u001b[39m'\u001b[39m)\n\u001b[1;32m      <a href='vscode-notebook-cell:/Users/deep/Desktop/ML_Project-1/XgBoost.ipynb#W2sZmlsZQ%3D%3D?line=2'>3</a>\u001b[0m \u001b[39m# Print the keys of the MATLAB file to understand what data it contains\u001b[39;00m\n\u001b[1;32m      <a href='vscode-notebook-cell:/Users/deep/Desktop/ML_Project-1/XgBoost.ipynb#W2sZmlsZQ%3D%3D?line=3'>4</a>\u001b[0m \u001b[39mprint\u001b[39m(mat_data\u001b[39m.\u001b[39mkeys())\n",
      "File \u001b[0;32m~/miniconda3/lib/python3.11/site-packages/scipy/io/matlab/_mio.py:225\u001b[0m, in \u001b[0;36mloadmat\u001b[0;34m(file_name, mdict, appendmat, **kwargs)\u001b[0m\n\u001b[1;32m     88\u001b[0m \u001b[39m\u001b[39m\u001b[39m\"\"\"\u001b[39;00m\n\u001b[1;32m     89\u001b[0m \u001b[39mLoad MATLAB file.\u001b[39;00m\n\u001b[1;32m     90\u001b[0m \n\u001b[0;32m   (...)\u001b[0m\n\u001b[1;32m    222\u001b[0m \u001b[39m    3.14159265+3.14159265j])\u001b[39;00m\n\u001b[1;32m    223\u001b[0m \u001b[39m\"\"\"\u001b[39;00m\n\u001b[1;32m    224\u001b[0m variable_names \u001b[39m=\u001b[39m kwargs\u001b[39m.\u001b[39mpop(\u001b[39m'\u001b[39m\u001b[39mvariable_names\u001b[39m\u001b[39m'\u001b[39m, \u001b[39mNone\u001b[39;00m)\n\u001b[0;32m--> 225\u001b[0m \u001b[39mwith\u001b[39;00m _open_file_context(file_name, appendmat) \u001b[39mas\u001b[39;00m f:\n\u001b[1;32m    226\u001b[0m     MR, _ \u001b[39m=\u001b[39m mat_reader_factory(f, \u001b[39m*\u001b[39m\u001b[39m*\u001b[39mkwargs)\n\u001b[1;32m    227\u001b[0m     matfile_dict \u001b[39m=\u001b[39m MR\u001b[39m.\u001b[39mget_variables(variable_names)\n",
      "File \u001b[0;32m~/miniconda3/lib/python3.11/contextlib.py:137\u001b[0m, in \u001b[0;36m_GeneratorContextManager.__enter__\u001b[0;34m(self)\u001b[0m\n\u001b[1;32m    135\u001b[0m \u001b[39mdel\u001b[39;00m \u001b[39mself\u001b[39m\u001b[39m.\u001b[39margs, \u001b[39mself\u001b[39m\u001b[39m.\u001b[39mkwds, \u001b[39mself\u001b[39m\u001b[39m.\u001b[39mfunc\n\u001b[1;32m    136\u001b[0m \u001b[39mtry\u001b[39;00m:\n\u001b[0;32m--> 137\u001b[0m     \u001b[39mreturn\u001b[39;00m \u001b[39mnext\u001b[39m(\u001b[39mself\u001b[39m\u001b[39m.\u001b[39mgen)\n\u001b[1;32m    138\u001b[0m \u001b[39mexcept\u001b[39;00m \u001b[39mStopIteration\u001b[39;00m:\n\u001b[1;32m    139\u001b[0m     \u001b[39mraise\u001b[39;00m \u001b[39mRuntimeError\u001b[39;00m(\u001b[39m\"\u001b[39m\u001b[39mgenerator didn\u001b[39m\u001b[39m'\u001b[39m\u001b[39mt yield\u001b[39m\u001b[39m\"\u001b[39m) \u001b[39mfrom\u001b[39;00m \u001b[39mNone\u001b[39;00m\n",
      "File \u001b[0;32m~/miniconda3/lib/python3.11/site-packages/scipy/io/matlab/_mio.py:17\u001b[0m, in \u001b[0;36m_open_file_context\u001b[0;34m(file_like, appendmat, mode)\u001b[0m\n\u001b[1;32m     15\u001b[0m \u001b[39m@contextmanager\u001b[39m\n\u001b[1;32m     16\u001b[0m \u001b[39mdef\u001b[39;00m \u001b[39m_open_file_context\u001b[39m(file_like, appendmat, mode\u001b[39m=\u001b[39m\u001b[39m'\u001b[39m\u001b[39mrb\u001b[39m\u001b[39m'\u001b[39m):\n\u001b[0;32m---> 17\u001b[0m     f, opened \u001b[39m=\u001b[39m _open_file(file_like, appendmat, mode)\n\u001b[1;32m     18\u001b[0m     \u001b[39mtry\u001b[39;00m:\n\u001b[1;32m     19\u001b[0m         \u001b[39myield\u001b[39;00m f\n",
      "File \u001b[0;32m~/miniconda3/lib/python3.11/site-packages/scipy/io/matlab/_mio.py:45\u001b[0m, in \u001b[0;36m_open_file\u001b[0;34m(file_like, appendmat, mode)\u001b[0m\n\u001b[1;32m     43\u001b[0m     \u001b[39mif\u001b[39;00m appendmat \u001b[39mand\u001b[39;00m \u001b[39mnot\u001b[39;00m file_like\u001b[39m.\u001b[39mendswith(\u001b[39m'\u001b[39m\u001b[39m.mat\u001b[39m\u001b[39m'\u001b[39m):\n\u001b[1;32m     44\u001b[0m         file_like \u001b[39m+\u001b[39m\u001b[39m=\u001b[39m \u001b[39m'\u001b[39m\u001b[39m.mat\u001b[39m\u001b[39m'\u001b[39m\n\u001b[0;32m---> 45\u001b[0m     \u001b[39mreturn\u001b[39;00m \u001b[39mopen\u001b[39m(file_like, mode), \u001b[39mTrue\u001b[39;00m\n\u001b[1;32m     46\u001b[0m \u001b[39melse\u001b[39;00m:\n\u001b[1;32m     47\u001b[0m     \u001b[39mraise\u001b[39;00m \u001b[39mOSError\u001b[39;00m(\n\u001b[1;32m     48\u001b[0m         \u001b[39m'\u001b[39m\u001b[39mReader needs file name or open file-like object\u001b[39m\u001b[39m'\u001b[39m\n\u001b[1;32m     49\u001b[0m     ) \u001b[39mfrom\u001b[39;00m \u001b[39me\u001b[39;00m\n",
      "\u001b[0;31mFileNotFoundError\u001b[0m: [Errno 2] No such file or directory: '/Users/deep/Desktop/ML_Project/MNIST.mat'"
     ]
    }
   ],
   "source": [
    "#Import the MNIST.mat file\n",
    "mat_data = loadmat('/Users/deep/Desktop/ML_Project/MNIST.mat')\n",
    "# Print the keys of the MATLAB file to understand what data it contains\n",
    "print(mat_data.keys())\n",
    "\n",
    "pixel_features = mat_data['train_fea']\n",
    "pixel_labels = mat_data['train_gnd'].ravel()\n",
    "\n",
    "pixel_test_features = mat_data['test_fea']\n",
    "pixel_test_labels = mat_data['test_gnd'].ravel()\n",
    "\n",
    "#Normalize the pixel features\n",
    "pixel_features = pixel_features/255\n",
    "pixel_test_features = pixel_test_features/255\n"
   ]
  },
  {
   "cell_type": "markdown",
   "metadata": {},
   "source": [
    "<h1>Encode Labels <h1>"
   ]
  },
  {
   "cell_type": "code",
   "execution_count": null,
   "metadata": {},
   "outputs": [
    {
     "ename": "",
     "evalue": "",
     "output_type": "error",
     "traceback": [
      "\u001b[1;31mThe kernel failed to start due to the missing module 'packaging'. Consider installing this module.\n",
      "\u001b[1;31mClick <a href='https://aka.ms/kernelFailuresMissingModule'>here</a> for more info."
     ]
    }
   ],
   "source": [
    "# Encode labels to be in [0, num_class) so it will start from 0 instead of 1\n",
    "label_encoder = LabelEncoder()\n",
    "pixel_labels = label_encoder.fit_transform(pixel_labels)\n",
    "pixel_test_labels = label_encoder.transform(pixel_test_labels)"
   ]
  },
  {
   "cell_type": "markdown",
   "metadata": {},
   "source": [
    "<h1>Visualize Raw Data<h1>"
   ]
  },
  {
   "cell_type": "code",
   "execution_count": null,
   "metadata": {},
   "outputs": [
    {
     "ename": "",
     "evalue": "",
     "output_type": "error",
     "traceback": [
      "\u001b[1;31mThe kernel failed to start due to the missing module 'packaging'. Consider installing this module.\n",
      "\u001b[1;31mClick <a href='https://aka.ms/kernelFailuresMissingModule'>here</a> for more info."
     ]
    }
   ],
   "source": [
    "# add the number of images gonna be printed if we want every image at the 3750 iteration \n",
    "num_images = len(pixel_features) // 3750\n",
    "\n",
    "# Matplot is used to render the image \n",
    "fig, axes = plt.subplots(4, 4, figsize=(28, 28))\n",
    "axes = axes.ravel()  # Flatten the 28x28 matrix into an array of 100 subplots\n",
    "\n",
    "# Loop through subplots and add images\n",
    "for i in range(num_images):\n",
    "    idx = i * 3750 # 3750 is the number of images in each iteration\n",
    "    \n",
    "    if idx < 60000:\n",
    "        image = pixel_features[idx].reshape(28, 28)  # Assuming the images are 28x28\n",
    "        axes[i].imshow(image, cmap='gray')\n",
    "        axes[i].set_title(f\"Label: {pixel_labels[idx]}\", fontsize=8)\n",
    "        plt.subplots_adjust(hspace=0.8)\n",
    "        axes[i].axis('off')\n",
    "    \n",
    "\n",
    "\n",
    "plt.show()"
   ]
  },
  {
   "cell_type": "markdown",
   "metadata": {},
   "source": [
    "<h1> Augment Data <h1>"
   ]
  },
  {
   "cell_type": "code",
   "execution_count": null,
   "metadata": {},
   "outputs": [
    {
     "ename": "",
     "evalue": "",
     "output_type": "error",
     "traceback": [
      "\u001b[1;31mThe kernel failed to start due to the missing module 'packaging'. Consider installing this module.\n",
      "\u001b[1;31mClick <a href='https://aka.ms/kernelFailuresMissingModule'>here</a> for more info."
     ]
    }
   ],
   "source": [
    "# Assuming pixel_features is a numpy array with each row as a flattened image\n",
    "# Reshape it to a 3D array: number of images x width x height, -1 means all of the images\n",
    "image_data_reshaped = pixel_features.reshape(-1, 28, 28)\n",
    "image_data_reshaped2 = pixel_test_features.reshape(-1, 28, 28)\n",
    "# Rotated images by 180 degrees\n",
    "train_features_2D = np.rot90(image_data_reshaped, k=3, axes=(1, 2))\n",
    "train_features_2D2 = np.rot90(image_data_reshaped2, k=3, axes=(1, 2))\n",
    "#flip the images to the left\n",
    "train_features_2D = np.flip(train_features_2D, axis=(2))\n",
    "train_features_2D2 = np.flip(train_features_2D2, axis=(2))\n",
    "# Flatten the images again for XGBoost:\n",
    "flattened_images = train_features_2D.reshape(pixel_features.shape)\n",
    "flattened_images2 = train_features_2D2.reshape(pixel_test_features.shape)\n",
    "\n",
    "# Generate shuffled indices\n",
    "shuffled_indices = np.random.permutation(flattened_images.shape[0])\n",
    "shuffled_indices2 = np.random.permutation(flattened_images2.shape[0])\n",
    "\n",
    "# Shuffle features and labels correspondingly\n",
    "train_features_shuffled = flattened_images[shuffled_indices]\n",
    "train_labels_shuffled = pixel_labels[shuffled_indices]\n",
    "\n",
    "train_features_shuffled2 = flattened_images2[shuffled_indices2]\n",
    "train_labels_shuffled2 = pixel_test_labels[shuffled_indices2]\n",
    "\n",
    "# training Data\n",
    "rotated_images = train_features_shuffled\n",
    "rotated_labels = train_labels_shuffled\n",
    "\n",
    "# testing Data\n",
    "rotated_test_images = train_features_shuffled2\n",
    "rotated_test_labels = train_labels_shuffled2\n",
    "\n",
    "\n",
    "print(rotated_images.shape)\n",
    "print(rotated_labels.shape)\n",
    "print(rotated_test_images.shape)\n",
    "print(rotated_test_labels.shape)\n"
   ]
  },
  {
   "cell_type": "markdown",
   "metadata": {},
   "source": [
    "<h1> Visualization of Augmented Training Data </h1>"
   ]
  },
  {
   "cell_type": "code",
   "execution_count": null,
   "metadata": {},
   "outputs": [
    {
     "ename": "",
     "evalue": "",
     "output_type": "error",
     "traceback": [
      "\u001b[1;31mThe kernel failed to start due to the missing module 'packaging'. Consider installing this module.\n",
      "\u001b[1;31mClick <a href='https://aka.ms/kernelFailuresMissingModule'>here</a> for more info."
     ]
    }
   ],
   "source": [
    "fig, axes = plt.subplots(10, 10, figsize=(28, 28))\n",
    "axes = axes.ravel()  # Flatten the 10x10 matrix into an array of 100 subplots\n",
    "\n",
    "# Loop through subplots and add images\n",
    "for i in range(100):\n",
    "    image = rotated_images[i].reshape(28, 28)  # Assuming the images are 10x10\n",
    "    axes[i].imshow(image, cmap='gray')\n",
    "    axes[i].set_title(f\"Label: {rotated_labels[i]}\", fontsize=8)\n",
    "    plt.subplots_adjust(hspace=0.8)\n",
    "    axes[i].axis('off')\n",
    "\n",
    "plt.show()"
   ]
  },
  {
   "cell_type": "markdown",
   "metadata": {},
   "source": [
    "<h1> Visualization of Augmented Testing Data </h1>"
   ]
  },
  {
   "cell_type": "code",
   "execution_count": null,
   "metadata": {},
   "outputs": [
    {
     "ename": "",
     "evalue": "",
     "output_type": "error",
     "traceback": [
      "\u001b[1;31mThe kernel failed to start due to the missing module 'packaging'. Consider installing this module.\n",
      "\u001b[1;31mClick <a href='https://aka.ms/kernelFailuresMissingModule'>here</a> for more info."
     ]
    }
   ],
   "source": [
    "\n",
    "fig, axes = plt.subplots(10, 10, figsize=(28, 28))\n",
    "axes = axes.ravel()  # Flatten the 10x10 matrix into an array of 100 subplots\n",
    "\n",
    "# Loop through subplots and add images\n",
    "for i in range(100):\n",
    "    image = rotated_test_images[i].reshape(28, 28)  # Assuming the images are 10x10\n",
    "    axes[i].imshow(image, cmap='gray')\n",
    "    axes[i].set_title(f\"Label: {rotated_test_labels[i]}\", fontsize=8)\n",
    "    plt.subplots_adjust(hspace=0.8)\n",
    "    axes[i].axis('off')\n",
    "\n",
    "plt.show()"
   ]
  },
  {
   "cell_type": "markdown",
   "metadata": {},
   "source": [
    "<h1>Split Data: Test = Test, Validation<h1>"
   ]
  },
  {
   "cell_type": "code",
   "execution_count": null,
   "metadata": {},
   "outputs": [
    {
     "ename": "",
     "evalue": "",
     "output_type": "error",
     "traceback": [
      "\u001b[1;31mThe kernel failed to start due to the missing module 'packaging'. Consider installing this module.\n",
      "\u001b[1;31mClick <a href='https://aka.ms/kernelFailuresMissingModule'>here</a> for more info."
     ]
    }
   ],
   "source": [
    "#splitting the data into train and validation\n",
    "\n",
    "\n",
    "pixel_train_features = rotated_images[:48000]\n",
    "pixel_train_labels = rotated_labels[:48000]\n",
    "\n",
    "pixel_val_features = rotated_images[48000:]\n",
    "pixel_val_labels = rotated_labels[48000:]\n",
    "\n",
    "\n",
    "print(pixel_train_features.shape)\n",
    "print(pixel_train_labels.shape)\n",
    "print(pixel_val_features.shape)\n",
    "print(pixel_val_labels.shape)"
   ]
  },
  {
   "cell_type": "markdown",
   "metadata": {},
   "source": [
    "<h1> Xgboost <h1>"
   ]
  },
  {
   "cell_type": "code",
   "execution_count": null,
   "metadata": {},
   "outputs": [
    {
     "ename": "",
     "evalue": "",
     "output_type": "error",
     "traceback": [
      "\u001b[1;31mThe kernel failed to start due to the missing module 'packaging'. Consider installing this module.\n",
      "\u001b[1;31mClick <a href='https://aka.ms/kernelFailuresMissingModule'>here</a> for more info."
     ]
    }
   ],
   "source": [
    "\n",
    "#Convert the data into DMatrix format\n",
    "pixel_train = xgb.DMatrix(pixel_train_features, label=pixel_train_labels)\n",
    "pixel_val = xgb.DMatrix(pixel_val_features, label=pixel_val_labels)\n",
    "pixel_test = xgb.DMatrix(rotated_test_images, label=rotated_test_labels)\n",
    "print(rotated_test_labels.shape)"
   ]
  },
  {
   "cell_type": "markdown",
   "metadata": {},
   "source": [
    "<h1> Parameters <h1>"
   ]
  },
  {
   "cell_type": "code",
   "execution_count": null,
   "metadata": {},
   "outputs": [
    {
     "ename": "",
     "evalue": "",
     "output_type": "error",
     "traceback": [
      "\u001b[1;31mThe kernel failed to start due to the missing module 'packaging'. Consider installing this module.\n",
      "\u001b[1;31mClick <a href='https://aka.ms/kernelFailuresMissingModule'>here</a> for more info."
     ]
    }
   ],
   "source": [
    "\n",
    "# Set the parameters for the xgboost\n",
    "params = {\n",
    "    'num_class': 10,\n",
    "    'max_depth': 5,\n",
    "    'eta': 0.5,\n",
    "    'eval_metric': 'mlogloss',\n",
    "    'objective': 'multi:softmax',  # Ensure you're using the softmax objective\n",
    "}\n",
    "\n"
   ]
  },
  {
   "cell_type": "code",
   "execution_count": null,
   "metadata": {},
   "outputs": [
    {
     "ename": "",
     "evalue": "",
     "output_type": "error",
     "traceback": [
      "\u001b[1;31mThe kernel failed to start due to the missing module 'packaging'. Consider installing this module.\n",
      "\u001b[1;31mClick <a href='https://aka.ms/kernelFailuresMissingModule'>here</a> for more info."
     ]
    }
   ],
   "source": [
    "\n",
    "# To watch performance, you can set the evals parameter with a list of pairs (DMatrix, name)\n",
    "eval_set = [(pixel_train, 'train'), (pixel_val, 'validate')]\n",
    "evals_result = {}  # to store evaluation results for plotting\n",
    "early_stop = 10 # stop if 10 consequent rounds without decrease of error\n",
    "\n",
    "# Number of training rounds\n",
    "num_rounds = 200\n",
    "\n",
    "# Train the model\n",
    "model = xgb.train(params, pixel_train, num_rounds, evals=eval_set, early_stopping_rounds=early_stop, evals_result=evals_result)"
   ]
  },
  {
   "cell_type": "code",
   "execution_count": null,
   "metadata": {},
   "outputs": [
    {
     "ename": "",
     "evalue": "",
     "output_type": "error",
     "traceback": [
      "\u001b[1;31mThe kernel failed to start due to the missing module 'packaging'. Consider installing this module.\n",
      "\u001b[1;31mClick <a href='https://aka.ms/kernelFailuresMissingModule'>here</a> for more info."
     ]
    }
   ],
   "source": [
    "# Predict the labels of the test set\n",
    "preds = model.predict(pixel_test)\n",
    "\n",
    "# Calculate accuracy\n",
    "accuracy = accuracy_score(rotated_test_labels, preds)\n",
    "print(f\"Pixel Features - Accuracy: {accuracy * 100}%\")\n",
    "#97.83%\n",
    "#Accuracy: 97.59%"
   ]
  },
  {
   "cell_type": "markdown",
   "metadata": {},
   "source": [
    "<h1>Loss Evaluation <h1>"
   ]
  },
  {
   "cell_type": "code",
   "execution_count": null,
   "metadata": {},
   "outputs": [
    {
     "ename": "",
     "evalue": "",
     "output_type": "error",
     "traceback": [
      "\u001b[1;31mThe kernel failed to start due to the missing module 'packaging'. Consider installing this module.\n",
      "\u001b[1;31mClick <a href='https://aka.ms/kernelFailuresMissingModule'>here</a> for more info."
     ]
    }
   ],
   "source": [
    "# Plotting the training and validation accuracies\n",
    "plt.figure(figsize=(10, 5))\n",
    "\n",
    "# If you have used 'merror' as the eval metric, change 'mlogloss' to 'merror' below\n",
    "train_mlogloss = evals_result['train']['mlogloss']\n",
    "val_mlogloss = evals_result['validate']['mlogloss']\n",
    "plt.plot(train_mlogloss, label='Train mlogloss')\n",
    "plt.plot(val_mlogloss, label='Validation mlogloss')\n",
    "plt.legend()\n",
    "plt.xlabel('Round')\n",
    "plt.ylabel('Log Loss')\n",
    "plt.title('Training and Validation Log Loss Over Rounds')\n",
    "plt.show()"
   ]
  },
  {
   "cell_type": "markdown",
   "metadata": {},
   "source": [
    "<h1> Training Using LeNet5 features <h1>"
   ]
  },
  {
   "cell_type": "code",
   "execution_count": null,
   "metadata": {},
   "outputs": [
    {
     "ename": "",
     "evalue": "",
     "output_type": "error",
     "traceback": [
      "\u001b[1;31mThe kernel failed to start due to the missing module 'packaging'. Consider installing this module.\n",
      "\u001b[1;31mClick <a href='https://aka.ms/kernelFailuresMissingModule'>here</a> for more info."
     ]
    }
   ],
   "source": [
    "lenet = loadmat('/Users/deep/Desktop/ML_Project/MNIST-LeNet5.mat')\n",
    "print(lenet.keys())\n",
    "\n",
    "lenet_features = lenet['train_fea']\n",
    "lenet_labels = lenet['train_gnd'].ravel()\n",
    "lenet_test_features = lenet['test_fea']\n",
    "lenet_test_labels = lenet['test_gnd'].ravel()"
   ]
  }
 ],
 "metadata": {
  "kernelspec": {
   "display_name": "Python 3",
   "language": "python",
   "name": "python3"
  },
  "language_info": {
   "codemirror_mode": {
    "name": "ipython",
    "version": 3
   },
   "file_extension": ".py",
   "mimetype": "text/x-python",
   "name": "python",
   "nbconvert_exporter": "python",
   "pygments_lexer": "ipython3",
   "version": "3.11.5"
  }
 },
 "nbformat": 4,
 "nbformat_minor": 2
}
