{
 "cells": [
  {
   "cell_type": "code",
   "execution_count": null,
   "metadata": {},
   "outputs": [],
   "source": [
    "from scipy.ndimage import rotate\n",
    "import pandas as pd \n",
    "import numpy as np \n",
    "import math\n",
    "# libraries for data visualization\n",
    "import matplotlib.pyplot as plt\n",
    "# libraries for model selection\n",
    "import xgboost as xgb\n",
    "# libraries for model evaluation\n",
    "from sklearn.metrics import accuracy_score\n",
    "from sklearn.metrics import mean_squared_error\n",
    "#library to read matlab files\n",
    "from scipy.io import loadmat\n",
    "from sklearn.preprocessing import LabelEncoder\n",
    "from sklearn.model_selection import GridSearchCV\n"
   ]
  },
  {
   "cell_type": "markdown",
   "metadata": {},
   "source": [
    "<h1>Load and Parse Data</h1>"
   ]
  },
  {
   "cell_type": "code",
   "execution_count": null,
   "metadata": {},
   "outputs": [],
   "source": [
    "#Import the MNIST.mat file\n",
    "mat_data = loadmat('/Users/deep/Desktop/ML_Project/MNIST.mat')\n",
    "# Print the keys of the MATLAB file to understand what data it contains\n",
    "print(mat_data.keys())\n",
    "\n",
    "pixel_features = mat_data['train_fea']\n",
    "pixel_labels = mat_data['train_gnd'].ravel()\n",
    "\n",
    "pixel_test_features = mat_data['test_fea']\n",
    "pixel_test_labels = mat_data['test_gnd'].ravel()\n",
    "\n",
    "#Normalize the pixel features\n",
    "pixel_features = pixel_features/255\n",
    "pixel_test_features = pixel_test_features/255\n"
   ]
  },
  {
   "cell_type": "markdown",
   "metadata": {},
   "source": [
    "<h1>Encode Labels <h1>"
   ]
  },
  {
   "cell_type": "code",
   "execution_count": null,
   "metadata": {},
   "outputs": [],
   "source": [
    "# Encode labels to be in [0, num_class) so it will start from 0 instead of 1\n",
    "label_encoder = LabelEncoder()\n",
    "pixel_labels = label_encoder.fit_transform(pixel_labels)\n",
    "pixel_test_labels = label_encoder.transform(pixel_test_labels)"
   ]
  },
  {
   "cell_type": "markdown",
   "metadata": {},
   "source": [
    "<h1>Visualize Raw Data<h1>"
   ]
  },
  {
   "cell_type": "code",
   "execution_count": null,
   "metadata": {},
   "outputs": [],
   "source": [
    "# add the number of images gonna be printed if we want every image at the 3750 iteration \n",
    "num_images = len(pixel_features) // 3750\n",
    "\n",
    "# Matplot is used to render the image \n",
    "fig, axes = plt.subplots(4, 4, figsize=(28, 28))\n",
    "axes = axes.ravel()  # Flatten the 28x28 matrix into an array of 100 subplots\n",
    "\n",
    "# Loop through subplots and add images\n",
    "for i in range(num_images):\n",
    "    idx = i * 3750 # 3750 is the number of images in each iteration\n",
    "    \n",
    "    if idx < 60000:\n",
    "        image = pixel_features[idx].reshape(28, 28)  # Assuming the images are 28x28\n",
    "        axes[i].imshow(image, cmap='gray')\n",
    "        axes[i].set_title(f\"Label: {pixel_labels[idx]}\", fontsize=8)\n",
    "        plt.subplots_adjust(hspace=0.8)\n",
    "        axes[i].axis('off')\n",
    "    \n",
    "\n",
    "\n",
    "plt.show()"
   ]
  },
  {
   "cell_type": "markdown",
   "metadata": {},
   "source": [
    "<h1> Augment Data <h1>"
   ]
  },
  {
   "cell_type": "code",
   "execution_count": null,
   "metadata": {},
   "outputs": [],
   "source": [
    "# Assuming pixel_features is a numpy array with each row as a flattened image\n",
    "# Reshape it to a 3D array: number of images x width x height, -1 means all of the images\n",
    "image_data_reshaped = pixel_features.reshape(-1, 28, 28)\n",
    "image_data_reshaped2 = pixel_test_features.reshape(-1, 28, 28)\n",
    "# Rotated images by 180 degrees\n",
    "train_features_2D = np.rot90(image_data_reshaped, k=3, axes=(1, 2))\n",
    "train_features_2D2 = np.rot90(image_data_reshaped2, k=3, axes=(1, 2))\n",
    "#flip the images to the left\n",
    "train_features_2D = np.flip(train_features_2D, axis=(2))\n",
    "train_features_2D2 = np.flip(train_features_2D2, axis=(2))\n",
    "# Flatten the images again for XGBoost:\n",
    "flattened_images = train_features_2D.reshape(pixel_features.shape)\n",
    "flattened_images2 = train_features_2D2.reshape(pixel_test_features.shape)\n",
    "\n",
    "# Generate shuffled indices\n",
    "shuffled_indices = np.random.permutation(flattened_images.shape[0])\n",
    "shuffled_indices2 = np.random.permutation(flattened_images2.shape[0])\n",
    "\n",
    "# Shuffle features and labels correspondingly\n",
    "train_features_shuffled = flattened_images[shuffled_indices]\n",
    "train_labels_shuffled = pixel_labels[shuffled_indices]\n",
    "\n",
    "train_features_shuffled2 = flattened_images2[shuffled_indices2]\n",
    "train_labels_shuffled2 = pixel_test_labels[shuffled_indices2]\n",
    "\n",
    "# training Data\n",
    "rotated_images = train_features_shuffled\n",
    "rotated_labels = train_labels_shuffled\n",
    "\n",
    "# testing Data\n",
    "rotated_test_images = train_features_shuffled2\n",
    "rotated_test_labels = train_labels_shuffled2\n",
    "\n",
    "\n",
    "print(rotated_images.shape)\n",
    "print(rotated_labels.shape)\n",
    "print(rotated_test_images.shape)\n",
    "print(rotated_test_labels.shape)\n"
   ]
  },
  {
   "cell_type": "markdown",
   "metadata": {},
   "source": [
    "<h1> Visualization of Augmented Training Data </h1>"
   ]
  },
  {
   "cell_type": "code",
   "execution_count": null,
   "metadata": {},
   "outputs": [],
   "source": [
    "fig, axes = plt.subplots(10, 10, figsize=(28, 28))\n",
    "axes = axes.ravel()  # Flatten the 10x10 matrix into an array of 100 subplots\n",
    "\n",
    "# Loop through subplots and add images\n",
    "for i in range(100):\n",
    "    image = rotated_images[i].reshape(28, 28)  # Assuming the images are 10x10\n",
    "    axes[i].imshow(image, cmap='gray')\n",
    "    axes[i].set_title(f\"Label: {rotated_labels[i]}\", fontsize=8)\n",
    "    plt.subplots_adjust(hspace=0.8)\n",
    "    axes[i].axis('off')\n",
    "\n",
    "plt.show()"
   ]
  },
  {
   "cell_type": "markdown",
   "metadata": {},
   "source": [
    "<h1> Visualization of Augmented Testing Data </h1>"
   ]
  },
  {
   "cell_type": "code",
   "execution_count": null,
   "metadata": {},
   "outputs": [],
   "source": [
    "\n",
    "fig, axes = plt.subplots(10, 10, figsize=(28, 28))\n",
    "axes = axes.ravel()  # Flatten the 10x10 matrix into an array of 100 subplots\n",
    "\n",
    "# Loop through subplots and add images\n",
    "for i in range(100):\n",
    "    image = rotated_test_images[i].reshape(28, 28)  # Assuming the images are 10x10\n",
    "    axes[i].imshow(image, cmap='gray')\n",
    "    axes[i].set_title(f\"Label: {rotated_test_labels[i]}\", fontsize=8)\n",
    "    plt.subplots_adjust(hspace=0.8)\n",
    "    axes[i].axis('off')\n",
    "\n",
    "plt.show()"
   ]
  },
  {
   "cell_type": "markdown",
   "metadata": {},
   "source": [
    "<h1>Split Data: Test = Test, Validation<h1>"
   ]
  },
  {
   "cell_type": "code",
   "execution_count": null,
   "metadata": {},
   "outputs": [],
   "source": [
    "#splitting the data into train and validation\n",
    "\n",
    "\n",
    "pixel_train_features = rotated_images[:48000]\n",
    "pixel_train_labels = rotated_labels[:48000]\n",
    "\n",
    "pixel_val_features = rotated_images[48000:]\n",
    "pixel_val_labels = rotated_labels[48000:]\n",
    "\n",
    "\n",
    "print(pixel_train_features.shape)\n",
    "print(pixel_train_labels.shape)\n",
    "print(pixel_val_features.shape)\n",
    "print(pixel_val_labels.shape)"
   ]
  },
  {
   "cell_type": "markdown",
   "metadata": {},
   "source": [
    "<h1> Xgboost <h1>"
   ]
  },
  {
   "cell_type": "code",
   "execution_count": null,
   "metadata": {},
   "outputs": [],
   "source": [
    "\n",
    "#Convert the data into DMatrix format\n",
    "pixel_train = xgb.DMatrix(pixel_train_features, label=pixel_train_labels)\n",
    "pixel_val = xgb.DMatrix(pixel_val_features, label=pixel_val_labels)\n",
    "pixel_test = xgb.DMatrix(rotated_test_images, label=rotated_test_labels)\n",
    "print(rotated_test_labels.shape)"
   ]
  },
  {
   "cell_type": "markdown",
   "metadata": {},
   "source": [
    "<h1> Parameters <h1>"
   ]
  },
  {
   "cell_type": "code",
   "execution_count": null,
   "metadata": {},
   "outputs": [],
   "source": [
    "\n",
    "# Set the parameters for the xgboost\n",
    "params = {\n",
    "    'num_class': 10,\n",
    "    'max_depth': 5,\n",
    "    'eta': 0.5,\n",
    "    'eval_metric': 'mlogloss',\n",
    "    'objective': 'multi:softmax',  # Ensure you're using the softmax objective\n",
    "}\n",
    "\n"
   ]
  }
 ],
 "metadata": {
  "language_info": {
   "name": "python"
  }
 },
 "nbformat": 4,
 "nbformat_minor": 2
}
