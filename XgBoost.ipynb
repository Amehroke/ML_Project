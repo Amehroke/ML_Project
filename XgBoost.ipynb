{
 "cells": [
  {
   "cell_type": "code",
   "execution_count": null,
   "metadata": {},
   "outputs": [],
   "source": [
    "from scipy.ndimage import rotate\n",
    "import pandas as pd \n",
    "import numpy as np \n",
    "import math\n",
    "# libraries for data visualization\n",
    "import matplotlib.pyplot as plt\n",
    "# libraries for model selection\n",
    "import xgboost as xgb\n",
    "# libraries for model evaluation\n",
    "from sklearn.metrics import accuracy_score\n",
    "from sklearn.metrics import mean_squared_error\n",
    "#library to read matlab files\n",
    "from scipy.io import loadmat\n",
    "from sklearn.preprocessing import LabelEncoder\n",
    "from sklearn.model_selection import GridSearchCV\n"
   ]
  },
  {
   "cell_type": "markdown",
   "metadata": {},
   "source": [
    "<h1>Load and Parse Data</h1>"
   ]
  },
  {
   "cell_type": "code",
   "execution_count": null,
   "metadata": {},
   "outputs": [],
   "source": [
    "#Import the MNIST.mat file\n",
    "mat_data = loadmat('/Users/deep/Desktop/ML_Project/MNIST.mat')\n",
    "# Print the keys of the MATLAB file to understand what data it contains\n",
    "print(mat_data.keys())\n",
    "\n",
    "pixel_features = mat_data['train_fea']\n",
    "pixel_labels = mat_data['train_gnd'].ravel()\n",
    "\n",
    "pixel_test_features = mat_data['test_fea']\n",
    "pixel_test_labels = mat_data['test_gnd'].ravel()\n",
    "\n",
    "#Normalize the pixel features\n",
    "pixel_features = pixel_features/255\n",
    "pixel_test_features = pixel_test_features/255\n"
   ]
  },
  {
   "cell_type": "markdown",
   "metadata": {},
   "source": [
    "<h1>Encode Labels <h1>"
   ]
  },
  {
   "cell_type": "code",
   "execution_count": null,
   "metadata": {},
   "outputs": [],
   "source": [
    "# Encode labels to be in [0, num_class) so it will start from 0 instead of 1\n",
    "label_encoder = LabelEncoder()\n",
    "pixel_labels = label_encoder.fit_transform(pixel_labels)\n",
    "pixel_test_labels = label_encoder.transform(pixel_test_labels)"
   ]
  },
  {
   "cell_type": "markdown",
   "metadata": {},
   "source": [
    "<h1>Visualize Raw Data<h1>"
   ]
  },
  {
   "cell_type": "code",
   "execution_count": null,
   "metadata": {},
   "outputs": [],
   "source": [
    "# add the number of images gonna be printed if we want every image at the 3750 iteration \n",
    "num_images = len(pixel_features) // 3750\n",
    "\n",
    "# Matplot is used to render the image \n",
    "fig, axes = plt.subplots(4, 4, figsize=(28, 28))\n",
    "axes = axes.ravel()  # Flatten the 28x28 matrix into an array of 100 subplots\n",
    "\n",
    "# Loop through subplots and add images\n",
    "for i in range(num_images):\n",
    "    idx = i * 3750 # 3750 is the number of images in each iteration\n",
    "    \n",
    "    if idx < 60000:\n",
    "        image = pixel_features[idx].reshape(28, 28)  # Assuming the images are 28x28\n",
    "        axes[i].imshow(image, cmap='gray')\n",
    "        axes[i].set_title(f\"Label: {pixel_labels[idx]}\", fontsize=8)\n",
    "        plt.subplots_adjust(hspace=0.8)\n",
    "        axes[i].axis('off')\n",
    "    \n",
    "\n",
    "\n",
    "plt.show()"
   ]
  }
 ],
 "metadata": {
  "language_info": {
   "name": "python"
  }
 },
 "nbformat": 4,
 "nbformat_minor": 2
}
