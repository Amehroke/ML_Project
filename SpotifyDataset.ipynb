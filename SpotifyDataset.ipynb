{
 "cells": [
  {
   "cell_type": "code",
   "execution_count": 1,
   "metadata": {},
   "outputs": [
    {
     "name": "stdout",
     "output_type": "stream",
     "text": [
      "Requirement already satisfied: pyaudio in /Users/deep/miniconda3/lib/python3.11/site-packages (0.2.14)\n",
      "Requirement already satisfied: essentia in /Users/deep/miniconda3/lib/python3.11/site-packages (2.1b6.dev1110)\n",
      "Requirement already satisfied: numpy>=1.8.2 in /Users/deep/miniconda3/lib/python3.11/site-packages (from essentia) (1.23.5)\n",
      "Requirement already satisfied: six in /Users/deep/miniconda3/lib/python3.11/site-packages (from essentia) (1.16.0)\n",
      "Requirement already satisfied: pyyaml in /Users/deep/miniconda3/lib/python3.11/site-packages (from essentia) (6.0.1)\n",
      "Requirement already satisfied: spotipy in /Users/deep/miniconda3/lib/python3.11/site-packages (2.23.0)\n",
      "Requirement already satisfied: redis>=3.5.3 in /Users/deep/miniconda3/lib/python3.11/site-packages (from spotipy) (5.0.1)\n",
      "Requirement already satisfied: requests>=2.25.0 in /Users/deep/miniconda3/lib/python3.11/site-packages (from spotipy) (2.31.0)\n",
      "Requirement already satisfied: six>=1.15.0 in /Users/deep/miniconda3/lib/python3.11/site-packages (from spotipy) (1.16.0)\n",
      "Requirement already satisfied: urllib3>=1.26.0 in /Users/deep/miniconda3/lib/python3.11/site-packages (from spotipy) (1.26.16)\n",
      "Requirement already satisfied: charset-normalizer<4,>=2 in /Users/deep/miniconda3/lib/python3.11/site-packages (from requests>=2.25.0->spotipy) (2.0.4)\n",
      "Requirement already satisfied: idna<4,>=2.5 in /Users/deep/miniconda3/lib/python3.11/site-packages (from requests>=2.25.0->spotipy) (3.4)\n",
      "Requirement already satisfied: certifi>=2017.4.17 in /Users/deep/miniconda3/lib/python3.11/site-packages (from requests>=2.25.0->spotipy) (2023.11.17)\n"
     ]
    }
   ],
   "source": [
    "! pip install pyaudio\n",
    "! pip install essentia\n",
    "! pip install spotipy\n",
    "\n",
    "import pyaudio\n",
    "import wave\n",
    "import numpy as np\n",
    "import pandas as pd\n",
    "import matplotlib.pyplot as plt\n"
   ]
  },
  {
   "cell_type": "markdown",
   "metadata": {},
   "source": [
    "<h1>Using Spotify Api to Extract Timbre Features</h1>"
   ]
  },
  {
   "cell_type": "code",
   "execution_count": 2,
   "metadata": {},
   "outputs": [],
   "source": [
    "import spotipy\n",
    "from spotipy.oauth2 import SpotifyClientCredentials\n",
    "\n",
    "client_id = 'e79322f9673a45569ede905dd9cb3c5c'  # Replace with your client ID\n",
    "client_secret = 'b9e729549efb4fd48e3429080292f331'  # Replace with your client secret\n",
    "\n",
    "credentials = SpotifyClientCredentials(client_id=client_id, client_secret=client_secret)\n",
    "sp = spotipy.Spotify(client_credentials_manager=credentials)\n"
   ]
  },
  {
   "cell_type": "code",
   "execution_count": 3,
   "metadata": {},
   "outputs": [],
   "source": [
    "def extract_timbre_features(track_id):\n",
    "    # Fetch audio analysis\n",
    "    analysis = sp.audio_analysis(track_id)\n",
    "\n",
    "    # Extract timbre vectors from each segment\n",
    "    timbre_vectors = [segment['timbre'] for segment in analysis['segments']]\n",
    "    timbre_array = np.array(timbre_vectors)\n",
    "\n",
    "    # Calculate averages and covariances\n",
    "    avg_timbre = np.mean(timbre_array, axis=0)\n",
    "    cov_matrix = np.cov(timbre_array, rowvar=False)\n",
    "\n",
    "    # Extract the upper triangle of the covariance matrix\n",
    "    upper_triangle_indices = np.triu_indices_from(cov_matrix, k=1)\n",
    "    upper_triangle = cov_matrix[upper_triangle_indices]\n",
    "\n",
    "    # Combine the diagonal and upper triangle\n",
    "    cov_timbre = np.concatenate([np.diag(cov_matrix), upper_triangle])\n",
    "\n",
    "    return avg_timbre, cov_timbre\n"
   ]
  },
  {
   "cell_type": "code",
   "execution_count": 4,
   "metadata": {},
   "outputs": [],
   "source": [
    "def create_feature_dataframe(tracks):\n",
    "    # Initialize lists to store data\n",
    "    data = []\n",
    "\n",
    "    for track_id in tracks:\n",
    "        try:\n",
    "            # Extract the release year (label) and timbre features\n",
    "            track = sp.track(track_id)\n",
    "            release_year = track['album']['release_date'][:4]\n",
    "            avg_timbre, cov_timbre = extract_timbre_features(track_id)\n",
    "\n",
    "            # Create a single row for the DataFrame\n",
    "            row = [release_year] + list(avg_timbre) + list(cov_timbre)\n",
    "            data.append(row)\n",
    "        except Exception as e:\n",
    "            print(f\"Error processing track ID {track_id}: {e}\")\n",
    "\n",
    "    # Column names\n",
    "    columns = ['Label'] + [f'TimbreAvg{i+1}' for i in range(12)] + [f'TimbreCovariance{i+1}' for i in range(78)]\n",
    "\n",
    "    # Create DataFrame\n",
    "    df = pd.DataFrame(data, columns=columns)\n",
    "    return df"
   ]
  },
  {
   "cell_type": "code",
   "execution_count": 5,
   "metadata": {},
   "outputs": [],
   "source": [
    "\n",
    "# Example usage\n",
    "track_ids = ['https://open.spotify.com/track/5rb9QrpfcKFHM1EUbSIurX?si=068a06909b1e48a6']  # Replace with your list of Spotify track IDs\n",
    "df = create_feature_dataframe(track_ids)\n",
    "\n",
    "# Display the first few rows of the DataFrame\n",
    "df.head()\n",
    "\n",
    "# Optional: Save the DataFrame to a CSV file\n",
    "df.to_csv('Data/spotify_timbre_features.csv', index=False)"
   ]
  },
  {
   "cell_type": "markdown",
   "metadata": {},
   "source": [
    "<h1> Recording Audio <h1>"
   ]
  },
  {
   "cell_type": "code",
   "execution_count": 11,
   "metadata": {},
   "outputs": [],
   "source": [
    "# # Setup channel, rate, and chunk size\n",
    "# FORMAT = pyaudio.paInt16 #This sets the format of the audio using the PyAudio library. paInt16 is one of the format codes provided by PyAudio, representing 16-bit int audio.\n",
    "# CHANNELS = 1\n",
    "# RATE = 44100\n",
    "# CHUNK = 1024\n",
    "# RECORD_SECONDS = 5\n",
    "# FILE_NAME = \"recordedFile.wav\"\n",
    "\n",
    "# audio = pyaudio.PyAudio()"
   ]
  },
  {
   "cell_type": "markdown",
   "metadata": {},
   "source": [
    "<h3>Code Breakdown</h3>\n",
    "\n",
    "<ul style=\"font-size: small;\">\n",
    "    <li>Setup channel, rate, and chunk size</li>\n",
    "    <li><code>FORMAT = pyaudio.paInt16</code>\n",
    "        <ul>\n",
    "            <li>This sets the format of the audio using the PyAudio library.</li>\n",
    "            <li><code>paInt16</code> is one of the format codes provided by PyAudio, representing 16-bit int audio.</li>\n",
    "        </ul>\n",
    "    </li>\n",
    "</ul>\n",
    "<ul style=\"font-size: small;\">\n",
    "    <li><code>CHANNELS = 1</code>\n",
    "        <ul>\n",
    "            <li>This sets the number of audio channels. 2 means it is using stereo sound (left and right channels). </li>\n",
    "            <li>If you were recording mono audio, you would set this to 1.</li>\n",
    "        </ul>\n",
    "    </li>\n",
    "</ul>\n",
    "<ul style=\"font-size: small;\">\n",
    "    <li><code>RATE = 44100</code>\n",
    "        <ul>\n",
    "            <li>This is the sampling rate. 44100 Hz (or 44.1 kHz) is a common sampling rate for audio</li>\n",
    "        </ul>\n",
    "    </li>\n",
    "</ul>\n",
    "<ul style=\"font-size: small;\">\n",
    "    <li><code>RECORD_SECONDS = 5</code>\n",
    "        <ul>\n",
    "            <li>This specifies the duration for which the audio recording will last. Here, it's set to 5 seconds.</li>\n",
    "        </ul>\n",
    "    </li>\n",
    "</ul>"
   ]
  },
  {
   "cell_type": "code",
   "execution_count": 12,
   "metadata": {},
   "outputs": [
    {
     "name": "stdout",
     "output_type": "stream",
     "text": [
      "Recording...\n",
      "Finished recording.\n"
     ]
    }
   ],
   "source": [
    "# # Start recording\n",
    "# stream = audio.open(format=FORMAT, channels=CHANNELS,\n",
    "#                     rate=RATE, input=True,\n",
    "#                     frames_per_buffer=CHUNK)\n",
    "# print(\"Recording...\")\n",
    "# frames = []\n",
    "\n",
    "# for i in range(0, int(RATE / CHUNK * RECORD_SECONDS)):\n",
    "#     data = stream.read(CHUNK)\n",
    "#     frames.append(data)\n",
    "# print(\"Finished recording.\")\n",
    "\n",
    "# # Stop recording\n",
    "# stream.stop_stream()\n",
    "# stream.close()\n",
    "# audio.terminate()\n",
    "\n",
    "# # Writing to file\n",
    "# waveFile = wave.open(FILE_NAME, 'wb')\n",
    "# waveFile.setnchannels(CHANNELS)\n",
    "# waveFile.setsampwidth(audio.get_sample_size(FORMAT))\n",
    "# waveFile.setframerate(RATE)\n",
    "# waveFile.writeframes(b''.join(frames))\n",
    "# waveFile.close()"
   ]
  },
  {
   "cell_type": "code",
   "execution_count": 1,
   "metadata": {},
   "outputs": [
    {
     "ename": "",
     "evalue": "",
     "output_type": "error",
     "traceback": [
      "\u001b[1;31mThe Kernel crashed while executing code in the the current cell or a previous cell. Please review the code in the cell(s) to identify a possible cause of the failure. Click <a href='https://aka.ms/vscodeJupyterKernelCrash'>here</a> for more info. View Jupyter <a href='command:jupyter.viewOutput'>log</a> for further details."
     ]
    }
   ],
   "source": [
    "# import essentia.standard as es\n",
    "\n",
    "# # Load the audio file\n",
    "# loader = es.MonoLoader(filename='recordedFile.wav')\n",
    "# audio = loader()\n",
    "\n",
    "# # Initialize the algorithm\n",
    "# w = es.Windowing(type='hann')\n",
    "# spectrum = es.Spectrum()\n",
    "# mfcc = es.MFCC()\n",
    "\n",
    "# # Compute MFCCs\n",
    "# mfccs = []\n",
    "# for frame in es.FrameGenerator(audio, frameSize=1024, hopSize=512, startFromZero=True):\n",
    "#     mfcc_bands, mfcc_coeffs = mfcc(spectrum(w(frame)))\n",
    "#     mfccs.append(mfcc_coeffs)\n",
    "\n",
    "# # `mfccs` will contain the MFCCs for each frame in the audio file\n"
   ]
  }
 ],
 "metadata": {
  "kernelspec": {
   "display_name": "base",
   "language": "python",
   "name": "python3"
  },
  "language_info": {
   "codemirror_mode": {
    "name": "ipython",
    "version": 3
   },
   "file_extension": ".py",
   "mimetype": "text/x-python",
   "name": "python",
   "nbconvert_exporter": "python",
   "pygments_lexer": "ipython3",
   "version": "3.11.5"
  }
 },
 "nbformat": 4,
 "nbformat_minor": 2
}
