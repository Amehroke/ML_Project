{
 "cells": [
  {
   "cell_type": "code",
   "execution_count": 1,
   "metadata": {},
   "outputs": [],
   "source": [
    "import pandas as pd \n",
    "import numpy as np\n",
    "# libraries for data visualization\n",
    "import matplotlib.pyplot as plt\n",
    "# libraries for model selection\n",
    "from sklearn.ensemble import ExtraTreesClassifier\n",
    "# libraries for splitting data\n",
    "from sklearn.model_selection import train_test_split\n",
    "# libraries for model evaluation\n",
    "from sklearn.metrics import accuracy_score\n",
    "# parameter tuning for Model\n",
    "from sklearn.model_selection import GridSearchCV\n",
    "\n"
   ]
  }
 ],
 "metadata": {
  "kernelspec": {
   "display_name": "base",
   "language": "python",
   "name": "python3"
  },
  "language_info": {
   "codemirror_mode": {
    "name": "ipython",
    "version": 3
   },
   "file_extension": ".py",
   "mimetype": "text/x-python",
   "name": "python",
   "nbconvert_exporter": "python",
   "pygments_lexer": "ipython3",
   "version": "3.11.5"
  }
 },
 "nbformat": 4,
 "nbformat_minor": 2
}
